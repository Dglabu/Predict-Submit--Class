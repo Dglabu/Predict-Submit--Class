{
 "cells": [
  {
   "cell_type": "code",
   "execution_count": 1,
   "id": "fitted-support",
   "metadata": {
    "_cell_guid": "b1076dfc-b9ad-4769-8c92-a6c4dae69d19",
    "_uuid": "8f2839f25d086af736a60e9eeb907d3b93b6e0e5",
    "execution": {
     "iopub.execute_input": "2021-04-30T05:20:13.800546Z",
     "iopub.status.busy": "2021-04-30T05:20:13.799571Z",
     "iopub.status.idle": "2021-04-30T05:20:13.801262Z",
     "shell.execute_reply": "2021-04-30T05:20:13.801738Z"
    },
    "papermill": {
     "duration": 0.02996,
     "end_time": "2021-04-30T05:20:13.802042",
     "exception": false,
     "start_time": "2021-04-30T05:20:13.772082",
     "status": "completed"
    },
    "tags": []
   },
   "outputs": [],
   "source": [
    "## David_Labuschagne_Classification_ Predict"
   ]
  },
  {
   "cell_type": "code",
   "execution_count": 2,
   "id": "imperial-jordan",
   "metadata": {
    "execution": {
     "iopub.execute_input": "2021-04-30T05:20:13.850520Z",
     "iopub.status.busy": "2021-04-30T05:20:13.849676Z",
     "iopub.status.idle": "2021-04-30T05:20:15.801873Z",
     "shell.execute_reply": "2021-04-30T05:20:15.802388Z"
    },
    "papermill": {
     "duration": 1.980856,
     "end_time": "2021-04-30T05:20:15.802594",
     "exception": false,
     "start_time": "2021-04-30T05:20:13.821738",
     "status": "completed"
    },
    "tags": []
   },
   "outputs": [],
   "source": [
    "import pandas as pd\n",
    "import numpy as np\n",
    "import nltk\n",
    "import string\n",
    "import re\n",
    "from sklearn.feature_extraction.text import TfidfVectorizer\n",
    "from sklearn.linear_model import LogisticRegression\n",
    "from sklearn.naive_bayes import MultinomialNB\n",
    "from sklearn.ensemble import RandomForestClassifier, AdaBoostClassifier\n",
    "from sklearn.svm import LinearSVC\n",
    "from sklearn.model_selection import train_test_split\n",
    "from sklearn.naive_bayes import MultinomialNB\n",
    "from nltk.stem import WordNetLemmatizer\n",
    "from nltk.corpus import stopwords\n",
    "from sklearn.model_selection import cross_val_score\n",
    "\n",
    "from sklearn.metrics import f1_score\n",
    "\n",
    "import seaborn as sns\n",
    "import matplotlib.pyplot as plt\n",
    "%matplotlib inline"
   ]
  },
  {
   "cell_type": "code",
   "execution_count": 3,
   "id": "fifteen-profession",
   "metadata": {
    "execution": {
     "iopub.execute_input": "2021-04-30T05:20:15.844903Z",
     "iopub.status.busy": "2021-04-30T05:20:15.844205Z",
     "iopub.status.idle": "2021-04-30T05:20:16.016075Z",
     "shell.execute_reply": "2021-04-30T05:20:16.016595Z"
    },
    "papermill": {
     "duration": 0.194512,
     "end_time": "2021-04-30T05:20:16.016814",
     "exception": false,
     "start_time": "2021-04-30T05:20:15.822302",
     "status": "completed"
    },
    "tags": []
   },
   "outputs": [],
   "source": [
    "test = pd.read_csv(\"../input/climate-change/test.csv\")\n",
    "train = pd.read_csv(\"../input/climate-change/train.csv\")"
   ]
  },
  {
   "cell_type": "code",
   "execution_count": 4,
   "id": "wireless-composition",
   "metadata": {
    "execution": {
     "iopub.execute_input": "2021-04-30T05:20:16.061011Z",
     "iopub.status.busy": "2021-04-30T05:20:16.060356Z",
     "iopub.status.idle": "2021-04-30T05:20:16.085938Z",
     "shell.execute_reply": "2021-04-30T05:20:16.086437Z"
    },
    "papermill": {
     "duration": 0.049105,
     "end_time": "2021-04-30T05:20:16.086641",
     "exception": false,
     "start_time": "2021-04-30T05:20:16.037536",
     "status": "completed"
    },
    "tags": []
   },
   "outputs": [
    {
     "data": {
      "text/html": [
       "<div>\n",
       "<style scoped>\n",
       "    .dataframe tbody tr th:only-of-type {\n",
       "        vertical-align: middle;\n",
       "    }\n",
       "\n",
       "    .dataframe tbody tr th {\n",
       "        vertical-align: top;\n",
       "    }\n",
       "\n",
       "    .dataframe thead th {\n",
       "        text-align: right;\n",
       "    }\n",
       "</style>\n",
       "<table border=\"1\" class=\"dataframe\">\n",
       "  <thead>\n",
       "    <tr style=\"text-align: right;\">\n",
       "      <th></th>\n",
       "      <th>sentiment</th>\n",
       "      <th>message</th>\n",
       "      <th>tweetid</th>\n",
       "    </tr>\n",
       "  </thead>\n",
       "  <tbody>\n",
       "    <tr>\n",
       "      <th>0</th>\n",
       "      <td>1</td>\n",
       "      <td>PolySciMajor EPA chief doesn't think carbon di...</td>\n",
       "      <td>625221</td>\n",
       "    </tr>\n",
       "    <tr>\n",
       "      <th>1</th>\n",
       "      <td>1</td>\n",
       "      <td>It's not like we lack evidence of anthropogeni...</td>\n",
       "      <td>126103</td>\n",
       "    </tr>\n",
       "    <tr>\n",
       "      <th>2</th>\n",
       "      <td>2</td>\n",
       "      <td>RT @RawStory: Researchers say we have three ye...</td>\n",
       "      <td>698562</td>\n",
       "    </tr>\n",
       "    <tr>\n",
       "      <th>3</th>\n",
       "      <td>1</td>\n",
       "      <td>#TodayinMaker# WIRED : 2016 was a pivotal year...</td>\n",
       "      <td>573736</td>\n",
       "    </tr>\n",
       "    <tr>\n",
       "      <th>4</th>\n",
       "      <td>1</td>\n",
       "      <td>RT @SoyNovioDeTodas: It's 2016, and a racist, ...</td>\n",
       "      <td>466954</td>\n",
       "    </tr>\n",
       "  </tbody>\n",
       "</table>\n",
       "</div>"
      ],
      "text/plain": [
       "   sentiment                                            message  tweetid\n",
       "0          1  PolySciMajor EPA chief doesn't think carbon di...   625221\n",
       "1          1  It's not like we lack evidence of anthropogeni...   126103\n",
       "2          2  RT @RawStory: Researchers say we have three ye...   698562\n",
       "3          1  #TodayinMaker# WIRED : 2016 was a pivotal year...   573736\n",
       "4          1  RT @SoyNovioDeTodas: It's 2016, and a racist, ...   466954"
      ]
     },
     "execution_count": 4,
     "metadata": {},
     "output_type": "execute_result"
    }
   ],
   "source": [
    "train.head()"
   ]
  },
  {
   "cell_type": "code",
   "execution_count": 5,
   "id": "portable-acrobat",
   "metadata": {
    "execution": {
     "iopub.execute_input": "2021-04-30T05:20:16.132792Z",
     "iopub.status.busy": "2021-04-30T05:20:16.132144Z",
     "iopub.status.idle": "2021-04-30T05:20:16.141381Z",
     "shell.execute_reply": "2021-04-30T05:20:16.140677Z"
    },
    "papermill": {
     "duration": 0.03268,
     "end_time": "2021-04-30T05:20:16.141528",
     "exception": false,
     "start_time": "2021-04-30T05:20:16.108848",
     "status": "completed"
    },
    "tags": []
   },
   "outputs": [
    {
     "data": {
      "text/plain": [
       " 1    8530\n",
       " 2    3640\n",
       " 0    2353\n",
       "-1    1296\n",
       "Name: sentiment, dtype: int64"
      ]
     },
     "execution_count": 5,
     "metadata": {},
     "output_type": "execute_result"
    }
   ],
   "source": [
    "train.sentiment.value_counts()"
   ]
  },
  {
   "cell_type": "markdown",
   "id": "designing-mouth",
   "metadata": {
    "papermill": {
     "duration": 0.020504,
     "end_time": "2021-04-30T05:20:16.183181",
     "exception": false,
     "start_time": "2021-04-30T05:20:16.162677",
     "status": "completed"
    },
    "tags": []
   },
   "source": [
    "Normally we would need to balance the DATA because of the high number of Pro (1) tweets. However, this negaatively effected the score and has therefore been ommitted. \n"
   ]
  },
  {
   "cell_type": "code",
   "execution_count": 6,
   "id": "offensive-elephant",
   "metadata": {
    "execution": {
     "iopub.execute_input": "2021-04-30T05:20:16.233829Z",
     "iopub.status.busy": "2021-04-30T05:20:16.233096Z",
     "iopub.status.idle": "2021-04-30T05:20:16.242737Z",
     "shell.execute_reply": "2021-04-30T05:20:16.242110Z"
    },
    "papermill": {
     "duration": 0.038824,
     "end_time": "2021-04-30T05:20:16.242894",
     "exception": false,
     "start_time": "2021-04-30T05:20:16.204070",
     "status": "completed"
    },
    "tags": []
   },
   "outputs": [
    {
     "name": "stdout",
     "output_type": "stream",
     "text": [
      "sentiment    0\n",
      "message      0\n",
      "tweetid      0\n",
      "dtype: int64\n",
      "sentiment    0\n",
      "message      0\n",
      "tweetid      0\n",
      "dtype: int64\n"
     ]
    }
   ],
   "source": [
    "#Check for missing values\n",
    "print(train.isnull().sum())\n",
    "print(train.isnull().sum())"
   ]
  },
  {
   "cell_type": "markdown",
   "id": "enormous-point",
   "metadata": {
    "papermill": {
     "duration": 0.021,
     "end_time": "2021-04-30T05:20:16.285316",
     "exception": false,
     "start_time": "2021-04-30T05:20:16.264316",
     "status": "completed"
    },
    "tags": []
   },
   "source": [
    "**Data Cleaning**\n",
    "When removing stop words, hastags etc. as well as doing lemmatization I found the model performed worse then leaving the raw tweets."
   ]
  },
  {
   "cell_type": "code",
   "execution_count": 7,
   "id": "pacific-amazon",
   "metadata": {
    "execution": {
     "iopub.execute_input": "2021-04-30T05:20:16.332013Z",
     "iopub.status.busy": "2021-04-30T05:20:16.331074Z",
     "iopub.status.idle": "2021-04-30T05:20:16.335842Z",
     "shell.execute_reply": "2021-04-30T05:20:16.335255Z"
    },
    "papermill": {
     "duration": 0.028974,
     "end_time": "2021-04-30T05:20:16.335985",
     "exception": false,
     "start_time": "2021-04-30T05:20:16.307011",
     "status": "completed"
    },
    "tags": []
   },
   "outputs": [],
   "source": [
    "# Remove punctuation\n",
    "#import string\n",
    "#print ('Cleaning punctuation...')\n",
    "#def remove_punctuation_numbers(post):\n",
    "    #punc_numbers = string.punctuation + '0123456789'\n",
    "    #return ''.join([l for l in post if l not in punc_numbers])#train['message'] = train['message'].apply(remove_punctuation_numbers)\n",
    "#test['message'] = test['message'].apply(remove_punctuation_numbers)"
   ]
  },
  {
   "cell_type": "markdown",
   "id": "alpine-lemon",
   "metadata": {
    "papermill": {
     "duration": 0.021844,
     "end_time": "2021-04-30T05:20:16.380176",
     "exception": false,
     "start_time": "2021-04-30T05:20:16.358332",
     "status": "completed"
    },
    "tags": []
   },
   "source": [
    "Punctuation removal negatively effected the score. \n"
   ]
  },
  {
   "cell_type": "code",
   "execution_count": 8,
   "id": "aboriginal-reducing",
   "metadata": {
    "execution": {
     "iopub.execute_input": "2021-04-30T05:20:16.427337Z",
     "iopub.status.busy": "2021-04-30T05:20:16.426501Z",
     "iopub.status.idle": "2021-04-30T05:20:16.536168Z",
     "shell.execute_reply": "2021-04-30T05:20:16.535606Z"
    },
    "papermill": {
     "duration": 0.134679,
     "end_time": "2021-04-30T05:20:16.536319",
     "exception": false,
     "start_time": "2021-04-30T05:20:16.401640",
     "status": "completed"
    },
    "tags": []
   },
   "outputs": [
    {
     "name": "stdout",
     "output_type": "stream",
     "text": [
      "Removing URLs...\n"
     ]
    }
   ],
   "source": [
    "## Remove urls\n",
    "print ('Removing URLs...')\n",
    "pattern_url = r'http[s]?://(?:[A-Za-z]|[0-9]|[$-_@.&+]|[!*\\(\\),]|(?:%[0-9A-Fa-f][0-9A-Fa-f]))+'\n",
    "subs_url = r'url-web'\n",
    "train['message'] = train['message'].replace(to_replace = pattern_url, value = subs_url, regex = True)\n",
    "test['message'] = test['message'].replace(to_replace = pattern_url, value = subs_url, regex = True)"
   ]
  },
  {
   "cell_type": "code",
   "execution_count": 9,
   "id": "established-enhancement",
   "metadata": {
    "execution": {
     "iopub.execute_input": "2021-04-30T05:20:16.584885Z",
     "iopub.status.busy": "2021-04-30T05:20:16.584154Z",
     "iopub.status.idle": "2021-04-30T05:20:16.586686Z",
     "shell.execute_reply": "2021-04-30T05:20:16.587190Z"
    },
    "papermill": {
     "duration": 0.028975,
     "end_time": "2021-04-30T05:20:16.587356",
     "exception": false,
     "start_time": "2021-04-30T05:20:16.558381",
     "status": "completed"
    },
    "tags": []
   },
   "outputs": [],
   "source": [
    "# Make lower case\n",
    "#print ('Lowering case...')\n",
    "#train['message'] = train['message'].str.lower()\n",
    "#test['message'] = test['message'].str.lower()"
   ]
  },
  {
   "cell_type": "code",
   "execution_count": 10,
   "id": "rural-database",
   "metadata": {
    "execution": {
     "iopub.execute_input": "2021-04-30T05:20:16.640724Z",
     "iopub.status.busy": "2021-04-30T05:20:16.637919Z",
     "iopub.status.idle": "2021-04-30T05:20:16.644581Z",
     "shell.execute_reply": "2021-04-30T05:20:16.645083Z"
    },
    "papermill": {
     "duration": 0.035732,
     "end_time": "2021-04-30T05:20:16.645264",
     "exception": false,
     "start_time": "2021-04-30T05:20:16.609532",
     "status": "completed"
    },
    "tags": []
   },
   "outputs": [
    {
     "data": {
      "text/html": [
       "<div>\n",
       "<style scoped>\n",
       "    .dataframe tbody tr th:only-of-type {\n",
       "        vertical-align: middle;\n",
       "    }\n",
       "\n",
       "    .dataframe tbody tr th {\n",
       "        vertical-align: top;\n",
       "    }\n",
       "\n",
       "    .dataframe thead th {\n",
       "        text-align: right;\n",
       "    }\n",
       "</style>\n",
       "<table border=\"1\" class=\"dataframe\">\n",
       "  <thead>\n",
       "    <tr style=\"text-align: right;\">\n",
       "      <th></th>\n",
       "      <th>sentiment</th>\n",
       "      <th>message</th>\n",
       "      <th>tweetid</th>\n",
       "    </tr>\n",
       "  </thead>\n",
       "  <tbody>\n",
       "    <tr>\n",
       "      <th>0</th>\n",
       "      <td>1</td>\n",
       "      <td>PolySciMajor EPA chief doesn't think carbon di...</td>\n",
       "      <td>625221</td>\n",
       "    </tr>\n",
       "    <tr>\n",
       "      <th>1</th>\n",
       "      <td>1</td>\n",
       "      <td>It's not like we lack evidence of anthropogeni...</td>\n",
       "      <td>126103</td>\n",
       "    </tr>\n",
       "    <tr>\n",
       "      <th>2</th>\n",
       "      <td>2</td>\n",
       "      <td>RT @RawStory: Researchers say we have three ye...</td>\n",
       "      <td>698562</td>\n",
       "    </tr>\n",
       "    <tr>\n",
       "      <th>3</th>\n",
       "      <td>1</td>\n",
       "      <td>#TodayinMaker# WIRED : 2016 was a pivotal year...</td>\n",
       "      <td>573736</td>\n",
       "    </tr>\n",
       "    <tr>\n",
       "      <th>4</th>\n",
       "      <td>1</td>\n",
       "      <td>RT @SoyNovioDeTodas: It's 2016, and a racist, ...</td>\n",
       "      <td>466954</td>\n",
       "    </tr>\n",
       "  </tbody>\n",
       "</table>\n",
       "</div>"
      ],
      "text/plain": [
       "   sentiment                                            message  tweetid\n",
       "0          1  PolySciMajor EPA chief doesn't think carbon di...   625221\n",
       "1          1  It's not like we lack evidence of anthropogeni...   126103\n",
       "2          2  RT @RawStory: Researchers say we have three ye...   698562\n",
       "3          1  #TodayinMaker# WIRED : 2016 was a pivotal year...   573736\n",
       "4          1  RT @SoyNovioDeTodas: It's 2016, and a racist, ...   466954"
      ]
     },
     "execution_count": 10,
     "metadata": {},
     "output_type": "execute_result"
    }
   ],
   "source": [
    "train.head()"
   ]
  },
  {
   "cell_type": "code",
   "execution_count": 11,
   "id": "liked-bulgarian",
   "metadata": {
    "execution": {
     "iopub.execute_input": "2021-04-30T05:20:16.693752Z",
     "iopub.status.busy": "2021-04-30T05:20:16.693109Z",
     "iopub.status.idle": "2021-04-30T05:20:16.696823Z",
     "shell.execute_reply": "2021-04-30T05:20:16.697300Z"
    },
    "papermill": {
     "duration": 0.029397,
     "end_time": "2021-04-30T05:20:16.697466",
     "exception": false,
     "start_time": "2021-04-30T05:20:16.668069",
     "status": "completed"
    },
    "tags": []
   },
   "outputs": [],
   "source": [
    "y = train['sentiment']\n",
    "X = train['message']"
   ]
  },
  {
   "cell_type": "code",
   "execution_count": 12,
   "id": "widespread-composer",
   "metadata": {
    "execution": {
     "iopub.execute_input": "2021-04-30T05:20:16.746188Z",
     "iopub.status.busy": "2021-04-30T05:20:16.745576Z",
     "iopub.status.idle": "2021-04-30T05:20:17.298278Z",
     "shell.execute_reply": "2021-04-30T05:20:17.297549Z"
    },
    "papermill": {
     "duration": 0.577961,
     "end_time": "2021-04-30T05:20:17.298424",
     "exception": false,
     "start_time": "2021-04-30T05:20:16.720463",
     "status": "completed"
    },
    "tags": []
   },
   "outputs": [],
   "source": [
    "vectorizer = TfidfVectorizer()\n",
    "X_vectorized = vectorizer.fit_transform(X)"
   ]
  },
  {
   "cell_type": "markdown",
   "id": "hired-treasury",
   "metadata": {
    "papermill": {
     "duration": 0.022354,
     "end_time": "2021-04-30T05:20:17.343788",
     "exception": false,
     "start_time": "2021-04-30T05:20:17.321434",
     "status": "completed"
    },
    "tags": []
   },
   "source": [
    "Train/Test Split"
   ]
  },
  {
   "cell_type": "code",
   "execution_count": 13,
   "id": "genetic-listing",
   "metadata": {
    "execution": {
     "iopub.execute_input": "2021-04-30T05:20:17.396199Z",
     "iopub.status.busy": "2021-04-30T05:20:17.395447Z",
     "iopub.status.idle": "2021-04-30T05:20:17.402133Z",
     "shell.execute_reply": "2021-04-30T05:20:17.401545Z"
    },
    "papermill": {
     "duration": 0.035616,
     "end_time": "2021-04-30T05:20:17.402275",
     "exception": false,
     "start_time": "2021-04-30T05:20:17.366659",
     "status": "completed"
    },
    "tags": []
   },
   "outputs": [],
   "source": [
    "X_train, X_val, y_train, y_val = train_test_split(X_vectorized,\n",
    "                                                y,\n",
    "                                                test_size=0.2, \n",
    "                                                 random_state=3)"
   ]
  },
  {
   "cell_type": "markdown",
   "id": "internal-buddy",
   "metadata": {
    "papermill": {
     "duration": 0.024295,
     "end_time": "2021-04-30T05:20:17.450504",
     "exception": false,
     "start_time": "2021-04-30T05:20:17.426209",
     "status": "completed"
    },
    "tags": []
   },
   "source": [
    "Linear Support Vector Classification Model"
   ]
  },
  {
   "cell_type": "code",
   "execution_count": 14,
   "id": "polish-helicopter",
   "metadata": {
    "execution": {
     "iopub.execute_input": "2021-04-30T05:20:17.505574Z",
     "iopub.status.busy": "2021-04-30T05:20:17.504876Z",
     "iopub.status.idle": "2021-04-30T05:20:17.741978Z",
     "shell.execute_reply": "2021-04-30T05:20:17.742520Z"
    },
    "papermill": {
     "duration": 0.26759,
     "end_time": "2021-04-30T05:20:17.742695",
     "exception": false,
     "start_time": "2021-04-30T05:20:17.475105",
     "status": "completed"
    },
    "tags": []
   },
   "outputs": [],
   "source": [
    "svc = LinearSVC( C=1, random_state=0)\n",
    "svc.fit(X_train, y_train)\n",
    "y_pred = svc.predict(X_val)"
   ]
  },
  {
   "cell_type": "code",
   "execution_count": 15,
   "id": "atomic-gnome",
   "metadata": {
    "execution": {
     "iopub.execute_input": "2021-04-30T05:20:17.795869Z",
     "iopub.status.busy": "2021-04-30T05:20:17.795110Z",
     "iopub.status.idle": "2021-04-30T05:20:17.803950Z",
     "shell.execute_reply": "2021-04-30T05:20:17.803265Z"
    },
    "papermill": {
     "duration": 0.037167,
     "end_time": "2021-04-30T05:20:17.804091",
     "exception": false,
     "start_time": "2021-04-30T05:20:17.766924",
     "status": "completed"
    },
    "tags": []
   },
   "outputs": [
    {
     "data": {
      "text/plain": [
       "0.6700446990370189"
      ]
     },
     "execution_count": 15,
     "metadata": {},
     "output_type": "execute_result"
    }
   ],
   "source": [
    "f1_score(y_val, y_pred, average=\"macro\")"
   ]
  },
  {
   "cell_type": "code",
   "execution_count": 16,
   "id": "agricultural-local",
   "metadata": {
    "execution": {
     "iopub.execute_input": "2021-04-30T05:20:17.858034Z",
     "iopub.status.busy": "2021-04-30T05:20:17.857089Z",
     "iopub.status.idle": "2021-04-30T05:20:17.860089Z",
     "shell.execute_reply": "2021-04-30T05:20:17.860533Z"
    },
    "papermill": {
     "duration": 0.032243,
     "end_time": "2021-04-30T05:20:17.860703",
     "exception": false,
     "start_time": "2021-04-30T05:20:17.828460",
     "status": "completed"
    },
    "tags": []
   },
   "outputs": [],
   "source": [
    "#Hyperparameter Tuning for SVC\n",
    "parameters = {'C':(0.25,1.0, 1.2),\n",
    "              'random_state': (0, 3, 42, 101),\n",
    "             }"
   ]
  },
  {
   "cell_type": "code",
   "execution_count": 17,
   "id": "combined-showcase",
   "metadata": {
    "execution": {
     "iopub.execute_input": "2021-04-30T05:20:17.914779Z",
     "iopub.status.busy": "2021-04-30T05:20:17.913729Z",
     "iopub.status.idle": "2021-04-30T05:20:27.421820Z",
     "shell.execute_reply": "2021-04-30T05:20:27.422293Z"
    },
    "papermill": {
     "duration": 9.537536,
     "end_time": "2021-04-30T05:20:27.422476",
     "exception": false,
     "start_time": "2021-04-30T05:20:17.884940",
     "status": "completed"
    },
    "tags": []
   },
   "outputs": [
    {
     "data": {
      "text/plain": [
       "GridSearchCV(estimator=LinearSVC(C=1, random_state=0),\n",
       "             param_grid={'C': (0.25, 1.0, 1.2),\n",
       "                         'random_state': (0, 3, 42, 101)})"
      ]
     },
     "execution_count": 17,
     "metadata": {},
     "output_type": "execute_result"
    }
   ],
   "source": [
    "from sklearn.model_selection import GridSearchCV\n",
    "clf = GridSearchCV(svc, parameters)\n",
    "clf.fit(X_train,y_train)"
   ]
  },
  {
   "cell_type": "code",
   "execution_count": 18,
   "id": "eight-xerox",
   "metadata": {
    "execution": {
     "iopub.execute_input": "2021-04-30T05:20:27.476428Z",
     "iopub.status.busy": "2021-04-30T05:20:27.475500Z",
     "iopub.status.idle": "2021-04-30T05:20:27.479966Z",
     "shell.execute_reply": "2021-04-30T05:20:27.479396Z"
    },
    "papermill": {
     "duration": 0.033621,
     "end_time": "2021-04-30T05:20:27.480106",
     "exception": false,
     "start_time": "2021-04-30T05:20:27.446485",
     "status": "completed"
    },
    "tags": []
   },
   "outputs": [
    {
     "data": {
      "text/plain": [
       "{'C': 1.0, 'random_state': 0}"
      ]
     },
     "execution_count": 18,
     "metadata": {},
     "output_type": "execute_result"
    }
   ],
   "source": [
    "clf.best_params_"
   ]
  },
  {
   "cell_type": "code",
   "execution_count": 19,
   "id": "satisfied-daughter",
   "metadata": {
    "execution": {
     "iopub.execute_input": "2021-04-30T05:20:27.536101Z",
     "iopub.status.busy": "2021-04-30T05:20:27.535411Z",
     "iopub.status.idle": "2021-04-30T05:20:28.450016Z",
     "shell.execute_reply": "2021-04-30T05:20:28.449377Z"
    },
    "papermill": {
     "duration": 0.944992,
     "end_time": "2021-04-30T05:20:28.450165",
     "exception": false,
     "start_time": "2021-04-30T05:20:27.505173",
     "status": "completed"
    },
    "tags": []
   },
   "outputs": [
    {
     "name": "stdout",
     "output_type": "stream",
     "text": [
      "[0.65875316 0.64880325 0.63376762 0.64963192 0.6575259 ]\n"
     ]
    }
   ],
   "source": [
    "#K-fold cross validation \n",
    "from sklearn.model_selection import cross_val_score\n",
    "print(cross_val_score(svc, X_train, y_train, scoring='f1_macro'))"
   ]
  },
  {
   "cell_type": "markdown",
   "id": "worth-credits",
   "metadata": {
    "papermill": {
     "duration": 0.024509,
     "end_time": "2021-04-30T05:20:28.499923",
     "exception": false,
     "start_time": "2021-04-30T05:20:28.475414",
     "status": "completed"
    },
    "tags": []
   },
   "source": [
    "Preparing the test set. "
   ]
  },
  {
   "cell_type": "code",
   "execution_count": 20,
   "id": "specialized-soccer",
   "metadata": {
    "execution": {
     "iopub.execute_input": "2021-04-30T05:20:28.580553Z",
     "iopub.status.busy": "2021-04-30T05:20:28.575235Z",
     "iopub.status.idle": "2021-04-30T05:20:28.849110Z",
     "shell.execute_reply": "2021-04-30T05:20:28.848513Z"
    },
    "papermill": {
     "duration": 0.323114,
     "end_time": "2021-04-30T05:20:28.849251",
     "exception": false,
     "start_time": "2021-04-30T05:20:28.526137",
     "status": "completed"
    },
    "tags": []
   },
   "outputs": [],
   "source": [
    "testx = test['message']\n",
    "test_vect = vectorizer.transform(testx)\n"
   ]
  },
  {
   "cell_type": "code",
   "execution_count": 21,
   "id": "buried-there",
   "metadata": {
    "execution": {
     "iopub.execute_input": "2021-04-30T05:20:28.904826Z",
     "iopub.status.busy": "2021-04-30T05:20:28.904154Z",
     "iopub.status.idle": "2021-04-30T05:20:28.909323Z",
     "shell.execute_reply": "2021-04-30T05:20:28.909796Z"
    },
    "papermill": {
     "duration": 0.035435,
     "end_time": "2021-04-30T05:20:28.909980",
     "exception": false,
     "start_time": "2021-04-30T05:20:28.874545",
     "status": "completed"
    },
    "tags": []
   },
   "outputs": [],
   "source": [
    "y_pred = svc.predict(test_vect)"
   ]
  },
  {
   "cell_type": "code",
   "execution_count": 22,
   "id": "similar-prince",
   "metadata": {
    "execution": {
     "iopub.execute_input": "2021-04-30T05:20:28.967029Z",
     "iopub.status.busy": "2021-04-30T05:20:28.966107Z",
     "iopub.status.idle": "2021-04-30T05:20:28.969309Z",
     "shell.execute_reply": "2021-04-30T05:20:28.968738Z"
    },
    "papermill": {
     "duration": 0.034221,
     "end_time": "2021-04-30T05:20:28.969454",
     "exception": false,
     "start_time": "2021-04-30T05:20:28.935233",
     "status": "completed"
    },
    "tags": []
   },
   "outputs": [],
   "source": [
    "test['sentiment'] = y_pred"
   ]
  },
  {
   "cell_type": "code",
   "execution_count": 23,
   "id": "digital-yeast",
   "metadata": {
    "execution": {
     "iopub.execute_input": "2021-04-30T05:20:29.031551Z",
     "iopub.status.busy": "2021-04-30T05:20:29.030874Z",
     "iopub.status.idle": "2021-04-30T05:20:29.035242Z",
     "shell.execute_reply": "2021-04-30T05:20:29.034713Z"
    },
    "papermill": {
     "duration": 0.040175,
     "end_time": "2021-04-30T05:20:29.035384",
     "exception": false,
     "start_time": "2021-04-30T05:20:28.995209",
     "status": "completed"
    },
    "tags": []
   },
   "outputs": [
    {
     "data": {
      "text/html": [
       "<div>\n",
       "<style scoped>\n",
       "    .dataframe tbody tr th:only-of-type {\n",
       "        vertical-align: middle;\n",
       "    }\n",
       "\n",
       "    .dataframe tbody tr th {\n",
       "        vertical-align: top;\n",
       "    }\n",
       "\n",
       "    .dataframe thead th {\n",
       "        text-align: right;\n",
       "    }\n",
       "</style>\n",
       "<table border=\"1\" class=\"dataframe\">\n",
       "  <thead>\n",
       "    <tr style=\"text-align: right;\">\n",
       "      <th></th>\n",
       "      <th>message</th>\n",
       "      <th>tweetid</th>\n",
       "      <th>sentiment</th>\n",
       "    </tr>\n",
       "  </thead>\n",
       "  <tbody>\n",
       "    <tr>\n",
       "      <th>0</th>\n",
       "      <td>Europe will now be looking to China to make su...</td>\n",
       "      <td>169760</td>\n",
       "      <td>1</td>\n",
       "    </tr>\n",
       "    <tr>\n",
       "      <th>1</th>\n",
       "      <td>Combine this with the polling of staffers re c...</td>\n",
       "      <td>35326</td>\n",
       "      <td>1</td>\n",
       "    </tr>\n",
       "    <tr>\n",
       "      <th>2</th>\n",
       "      <td>The scary, unimpeachable evidence that climate...</td>\n",
       "      <td>224985</td>\n",
       "      <td>1</td>\n",
       "    </tr>\n",
       "    <tr>\n",
       "      <th>3</th>\n",
       "      <td>@Karoli @morgfair @OsborneInk @dailykos \\nPuti...</td>\n",
       "      <td>476263</td>\n",
       "      <td>1</td>\n",
       "    </tr>\n",
       "    <tr>\n",
       "      <th>4</th>\n",
       "      <td>RT @FakeWillMoore: 'Female orgasms cause globa...</td>\n",
       "      <td>872928</td>\n",
       "      <td>1</td>\n",
       "    </tr>\n",
       "  </tbody>\n",
       "</table>\n",
       "</div>"
      ],
      "text/plain": [
       "                                             message  tweetid  sentiment\n",
       "0  Europe will now be looking to China to make su...   169760          1\n",
       "1  Combine this with the polling of staffers re c...    35326          1\n",
       "2  The scary, unimpeachable evidence that climate...   224985          1\n",
       "3  @Karoli @morgfair @OsborneInk @dailykos \\nPuti...   476263          1\n",
       "4  RT @FakeWillMoore: 'Female orgasms cause globa...   872928          1"
      ]
     },
     "execution_count": 23,
     "metadata": {},
     "output_type": "execute_result"
    }
   ],
   "source": [
    "test.head()"
   ]
  },
  {
   "cell_type": "markdown",
   "id": "brave-alfred",
   "metadata": {
    "papermill": {
     "duration": 0.025645,
     "end_time": "2021-04-30T05:20:29.087523",
     "exception": false,
     "start_time": "2021-04-30T05:20:29.061878",
     "status": "completed"
    },
    "tags": []
   },
   "source": [
    "Kaggle Submission "
   ]
  },
  {
   "cell_type": "code",
   "execution_count": 24,
   "id": "automotive-namibia",
   "metadata": {
    "execution": {
     "iopub.execute_input": "2021-04-30T05:20:29.147036Z",
     "iopub.status.busy": "2021-04-30T05:20:29.146158Z",
     "iopub.status.idle": "2021-04-30T05:20:29.174959Z",
     "shell.execute_reply": "2021-04-30T05:20:29.174377Z"
    },
    "papermill": {
     "duration": 0.061246,
     "end_time": "2021-04-30T05:20:29.175117",
     "exception": false,
     "start_time": "2021-04-30T05:20:29.113871",
     "status": "completed"
    },
    "tags": []
   },
   "outputs": [],
   "source": [
    "test[['tweetid','sentiment']].to_csv('submissionclass14.csv', index=False)"
   ]
  }
 ],
 "metadata": {
  "kernelspec": {
   "display_name": "Python 3",
   "language": "python",
   "name": "python3"
  },
  "language_info": {
   "codemirror_mode": {
    "name": "ipython",
    "version": 3
   },
   "file_extension": ".py",
   "mimetype": "text/x-python",
   "name": "python",
   "nbconvert_exporter": "python",
   "pygments_lexer": "ipython3",
   "version": "3.7.9"
  },
  "papermill": {
   "default_parameters": {},
   "duration": 22.171875,
   "end_time": "2021-04-30T05:20:29.912153",
   "environment_variables": {},
   "exception": null,
   "input_path": "__notebook__.ipynb",
   "output_path": "__notebook__.ipynb",
   "parameters": {},
   "start_time": "2021-04-30T05:20:07.740278",
   "version": "2.3.2"
  }
 },
 "nbformat": 4,
 "nbformat_minor": 5
}
